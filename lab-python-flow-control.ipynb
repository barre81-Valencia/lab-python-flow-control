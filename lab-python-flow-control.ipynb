{
 "cells": [
  {
   "cell_type": "markdown",
   "id": "d3bfc191-8885-42ee-b0a0-bbab867c6f9f",
   "metadata": {
    "tags": []
   },
   "source": [
    "# Lab | Flow Control"
   ]
  },
  {
   "cell_type": "markdown",
   "id": "3851fcd1-cf98-4653-9c89-e003b7ec9400",
   "metadata": {},
   "source": [
    "## Exercise: Managing Customer Orders Optimized\n",
    "\n",
    "In the last lab, you were starting an online store that sells various products. To ensure smooth operations, you developed a program that manages customer orders and inventory.\n",
    "\n",
    "You did so without using flow control. Let's go a step further and improve this code.\n",
    "\n",
    "Follow the steps below to complete the exercise:\n",
    "\n",
    "1. Look at your code from the lab data structures, and improve repeated code with loops.\n",
    "\n",
    "2. Instead of asking the user to input the name of three products that a customer wants to order, do the following:\n",
    "    \n",
    "    a. Prompt the user to enter the name of a product that a customer wants to order.\n",
    "    \n",
    "    b. Add the product name to the \"customer_orders\" set.\n",
    "    \n",
    "    c. Ask the user if they want to add another product (yes/no).\n",
    "    \n",
    "    d. Continue the loop until the user does not want to add another product.\n",
    "\n",
    "3. Instead of updating the inventory by subtracting 1 from the quantity of each product, only do it for  the products that were ordered (those in \"customer_orders\")."
   ]
  },
  {
   "cell_type": "code",
   "execution_count": 1,
   "id": "2d82c376",
   "metadata": {},
   "outputs": [],
   "source": [
    "# hacer una lista de productos\n",
    "\n",
    "products = [\"t-shirt\", \"mug\", \"hat\", \"book\", \"keychain\"]"
   ]
  },
  {
   "cell_type": "code",
   "execution_count": 2,
   "id": "3e613fd0",
   "metadata": {},
   "outputs": [],
   "source": [
    "# crear un diccionario vacío llamado inventory\n",
    "\n",
    "inventory = {}"
   ]
  },
  {
   "cell_type": "code",
   "execution_count": 4,
   "id": "c1c5e8ae",
   "metadata": {},
   "outputs": [],
   "source": [
    "# solicitar la cantidad de cada producto para poner en Inventory, usando los productos de products como keys y las cantidades como values\n",
    "\n",
    "for product in products:\n",
    "    quant = int(input(\"enter the number of\" + product + \": \"))\n",
    "    inventory[product] = quant"
   ]
  },
  {
   "cell_type": "code",
   "execution_count": 5,
   "id": "80dcd6c1",
   "metadata": {},
   "outputs": [
    {
     "data": {
      "text/plain": [
       "{'t-shirt': 52, 'mug': 66, 'hat': 41, 'book': 50, 'keychain': 72}"
      ]
     },
     "execution_count": 5,
     "metadata": {},
     "output_type": "execute_result"
    }
   ],
   "source": [
    "inventory "
   ]
  },
  {
   "cell_type": "code",
   "execution_count": 32,
   "id": "31d74623",
   "metadata": {},
   "outputs": [
    {
     "name": "stdout",
     "output_type": "stream",
     "text": [
      "['t-shirt', 'mug', 'hat', 'book', 'keychain']\n"
     ]
    }
   ],
   "source": [
    "# pedir al cliente que seleccione productos de la lista\n",
    "\n",
    "print(products)\n",
    "\n",
    "customer_orders = set()\n",
    "\n",
    "while True:\n",
    "    choice = input(\"select a product from the list: \")\n",
    "    customer_orders.add(choice)\n",
    "\n",
    "    seguir = input(\"Do you want another product? (y/n): \")\n",
    "    if seguir != \"y\":\n",
    "        break\n"
   ]
  },
  {
   "cell_type": "code",
   "execution_count": 34,
   "id": "4018288c",
   "metadata": {},
   "outputs": [
    {
     "data": {
      "text/plain": [
       "{'book', 'hat', 'keychain', 'mug'}"
      ]
     },
     "execution_count": 34,
     "metadata": {},
     "output_type": "execute_result"
    }
   ],
   "source": [
    "customer_orders "
   ]
  },
  {
   "cell_type": "code",
   "execution_count": 35,
   "id": "0a3e54dd",
   "metadata": {},
   "outputs": [
    {
     "data": {
      "text/plain": [
       "{'t-shirt': 52, 'mug': 65, 'hat': 40, 'book': 49, 'keychain': 71}"
      ]
     },
     "execution_count": 35,
     "metadata": {},
     "output_type": "execute_result"
    }
   ],
   "source": [
    "# restar las cantidades de los productos seleccionados por el cliente del inventario\n",
    "\n",
    "for order in customer_orders:\n",
    "    if order in inventory and inventory[order] > 0:\n",
    "        inventory[order] -= 1\n",
    "\n",
    "inventory"
   ]
  }
 ],
 "metadata": {
  "kernelspec": {
   "display_name": "Python 3",
   "language": "python",
   "name": "python3"
  },
  "language_info": {
   "codemirror_mode": {
    "name": "ipython",
    "version": 3
   },
   "file_extension": ".py",
   "mimetype": "text/x-python",
   "name": "python",
   "nbconvert_exporter": "python",
   "pygments_lexer": "ipython3",
   "version": "3.11.9"
  }
 },
 "nbformat": 4,
 "nbformat_minor": 5
}
